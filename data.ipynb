{
 "cells": [
  {
   "cell_type": "code",
   "execution_count": 10,
   "metadata": {},
   "outputs": [],
   "source": [
    "import basketball_ref_scraper as brs\n",
    "from basketball_ref_scraper import teams\n",
    "from basketball_ref_scraper import constants\n",
    "from basketball_ref_scraper.constants import TEAM_TO_TEAM_ABBR\n",
    "import lxml"
   ]
  },
  {
   "cell_type": "code",
   "execution_count": 8,
   "metadata": {},
   "outputs": [
    {
     "data": {
      "text/html": [
       "<div>\n",
       "<style scoped>\n",
       "    .dataframe tbody tr th:only-of-type {\n",
       "        vertical-align: middle;\n",
       "    }\n",
       "\n",
       "    .dataframe tbody tr th {\n",
       "        vertical-align: top;\n",
       "    }\n",
       "\n",
       "    .dataframe thead th {\n",
       "        text-align: right;\n",
       "    }\n",
       "</style>\n",
       "<table border=\"1\" class=\"dataframe\">\n",
       "  <thead>\n",
       "    <tr style=\"text-align: right;\">\n",
       "      <th></th>\n",
       "      <th>NUMBER</th>\n",
       "      <th>PLAYER</th>\n",
       "      <th>POS</th>\n",
       "      <th>HEIGHT</th>\n",
       "      <th>WEIGHT</th>\n",
       "      <th>BIRTH_DATE</th>\n",
       "      <th>NATIONALITY</th>\n",
       "      <th>EXPERIENCE</th>\n",
       "      <th>COLLEGE</th>\n",
       "    </tr>\n",
       "  </thead>\n",
       "  <tbody>\n",
       "    <tr>\n",
       "      <th>0</th>\n",
       "      <td>5</td>\n",
       "      <td>Cat Barber</td>\n",
       "      <td>PG</td>\n",
       "      <td>6-2</td>\n",
       "      <td>190</td>\n",
       "      <td>1994-07-25</td>\n",
       "      <td>US</td>\n",
       "      <td>R</td>\n",
       "      <td>NC State</td>\n",
       "    </tr>\n",
       "    <tr>\n",
       "      <th>1</th>\n",
       "      <td>13</td>\n",
       "      <td>None</td>\n",
       "      <td>SG</td>\n",
       "      <td>6-6</td>\n",
       "      <td>220</td>\n",
       "      <td>1992-08-18</td>\n",
       "      <td>RS</td>\n",
       "      <td>4</td>\n",
       "      <td>NaN</td>\n",
       "    </tr>\n",
       "    <tr>\n",
       "      <th>2</th>\n",
       "      <td>45</td>\n",
       "      <td>None</td>\n",
       "      <td>SG</td>\n",
       "      <td>6-5</td>\n",
       "      <td>215</td>\n",
       "      <td>1998-12-04</td>\n",
       "      <td>US</td>\n",
       "      <td>R</td>\n",
       "      <td>Wake Forest, Michigan</td>\n",
       "    </tr>\n",
       "    <tr>\n",
       "      <th>3</th>\n",
       "      <td>15</td>\n",
       "      <td>Clint Capela</td>\n",
       "      <td>C</td>\n",
       "      <td>6-10</td>\n",
       "      <td>240</td>\n",
       "      <td>1994-05-18</td>\n",
       "      <td>CH</td>\n",
       "      <td>7</td>\n",
       "      <td>NaN</td>\n",
       "    </tr>\n",
       "    <tr>\n",
       "      <th>4</th>\n",
       "      <td>20</td>\n",
       "      <td>John Collins</td>\n",
       "      <td>PF</td>\n",
       "      <td>6-9</td>\n",
       "      <td>235</td>\n",
       "      <td>1997-09-23</td>\n",
       "      <td>US</td>\n",
       "      <td>4</td>\n",
       "      <td>Wake Forest</td>\n",
       "    </tr>\n",
       "  </tbody>\n",
       "</table>\n",
       "</div>"
      ],
      "text/plain": [
       "   NUMBER        PLAYER POS HEIGHT  WEIGHT BIRTH_DATE NATIONALITY EXPERIENCE  \\\n",
       "0       5    Cat Barber  PG    6-2     190 1994-07-25          US          R   \n",
       "1      13          None  SG    6-6     220 1992-08-18          RS          4   \n",
       "2      45          None  SG    6-5     215 1998-12-04          US          R   \n",
       "3      15  Clint Capela   C   6-10     240 1994-05-18          CH          7   \n",
       "4      20  John Collins  PF    6-9     235 1997-09-23          US          4   \n",
       "\n",
       "                 COLLEGE  \n",
       "0               NC State  \n",
       "1                    NaN  \n",
       "2  Wake Forest, Michigan  \n",
       "3                    NaN  \n",
       "4            Wake Forest  "
      ]
     },
     "execution_count": 8,
     "metadata": {},
     "output_type": "execute_result"
    }
   ],
   "source": [
    "team = TEAM_TO_TEAM_ABBR[\"ATLANTA HAWKS\"]\n",
    "year = 2022\n",
    "roster = brs.teams.get_roster(team, year)\n",
    "roster.dropna()\n",
    "roster.head()"
   ]
  },
  {
   "cell_type": "code",
   "execution_count": 12,
   "metadata": {},
   "outputs": [
    {
     "ename": "NameError",
     "evalue": "name 'year' is not defined",
     "output_type": "error",
     "traceback": [
      "\u001b[1;31m---------------------------------------------------------------------------\u001b[0m",
      "\u001b[1;31mNameError\u001b[0m                                 Traceback (most recent call last)",
      "Cell \u001b[1;32mIn[12], line 1\u001b[0m\n\u001b[1;32m----> 1\u001b[0m team_stats \u001b[39m=\u001b[39m brs\u001b[39m.\u001b[39mteams\u001b[39m.\u001b[39mget_team_stats(team, year)\n\u001b[0;32m      2\u001b[0m team_stats\u001b[39m.\u001b[39mhead()\n",
      "\u001b[1;31mNameError\u001b[0m: name 'year' is not defined"
     ]
    }
   ],
   "source": [
    "team_stats = brs.teams.get_team_stats(team, year)\n",
    "team_stats.head()"
   ]
  },
  {
   "cell_type": "code",
   "execution_count": null,
   "metadata": {},
   "outputs": [],
   "source": []
  }
 ],
 "metadata": {
  "kernelspec": {
   "display_name": "Python 3",
   "language": "python",
   "name": "python3"
  },
  "language_info": {
   "codemirror_mode": {
    "name": "ipython",
    "version": 3
   },
   "file_extension": ".py",
   "mimetype": "text/x-python",
   "name": "python",
   "nbconvert_exporter": "python",
   "pygments_lexer": "ipython3",
   "version": "3.10.8"
  },
  "orig_nbformat": 4,
  "vscode": {
   "interpreter": {
    "hash": "a4e1e7637f9e7cc55040cae30ec8414c904d19364cfdd9e7e5ee360d499f1dd7"
   }
  }
 },
 "nbformat": 4,
 "nbformat_minor": 2
}
