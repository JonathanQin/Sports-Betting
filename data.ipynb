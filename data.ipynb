{
 "cells": [
  {
   "cell_type": "code",
   "execution_count": 11,
   "metadata": {},
   "outputs": [],
   "source": [
    "import basketball_ref_scraper as brs\n",
    "from basketball_ref_scraper import teams\n",
    "from basketball_ref_scraper import constants\n",
    "from basketball_ref_scraper import players\n",
    "from basketball_ref_scraper.constants import TEAM_TO_TEAM_ABBR\n",
    "import lxml"
   ]
  },
  {
   "cell_type": "code",
   "execution_count": 12,
   "metadata": {},
   "outputs": [
    {
     "data": {
      "text/html": [
       "<div>\n",
       "<style scoped>\n",
       "    .dataframe tbody tr th:only-of-type {\n",
       "        vertical-align: middle;\n",
       "    }\n",
       "\n",
       "    .dataframe tbody tr th {\n",
       "        vertical-align: top;\n",
       "    }\n",
       "\n",
       "    .dataframe thead th {\n",
       "        text-align: right;\n",
       "    }\n",
       "</style>\n",
       "<table border=\"1\" class=\"dataframe\">\n",
       "  <thead>\n",
       "    <tr style=\"text-align: right;\">\n",
       "      <th></th>\n",
       "      <th>NUMBER</th>\n",
       "      <th>PLAYER</th>\n",
       "      <th>POS</th>\n",
       "      <th>HEIGHT</th>\n",
       "      <th>WEIGHT</th>\n",
       "      <th>BIRTH_DATE</th>\n",
       "      <th>NATIONALITY</th>\n",
       "      <th>EXPERIENCE</th>\n",
       "      <th>COLLEGE</th>\n",
       "    </tr>\n",
       "  </thead>\n",
       "  <tbody>\n",
       "    <tr>\n",
       "      <th>0</th>\n",
       "      <td>5</td>\n",
       "      <td>Cat Barber</td>\n",
       "      <td>PG</td>\n",
       "      <td>6-2</td>\n",
       "      <td>190</td>\n",
       "      <td>1994-07-25</td>\n",
       "      <td>US</td>\n",
       "      <td>R</td>\n",
       "      <td>NC State</td>\n",
       "    </tr>\n",
       "    <tr>\n",
       "      <th>1</th>\n",
       "      <td>13</td>\n",
       "      <td>Bogdan Bogdanović</td>\n",
       "      <td>SG</td>\n",
       "      <td>6-6</td>\n",
       "      <td>220</td>\n",
       "      <td>1992-08-18</td>\n",
       "      <td>RS</td>\n",
       "      <td>4</td>\n",
       "      <td>NaN</td>\n",
       "    </tr>\n",
       "    <tr>\n",
       "      <th>2</th>\n",
       "      <td>45</td>\n",
       "      <td>Chaundee Brown Jr.</td>\n",
       "      <td>SG</td>\n",
       "      <td>6-5</td>\n",
       "      <td>215</td>\n",
       "      <td>1998-12-04</td>\n",
       "      <td>US</td>\n",
       "      <td>R</td>\n",
       "      <td>Wake Forest, Michigan</td>\n",
       "    </tr>\n",
       "    <tr>\n",
       "      <th>3</th>\n",
       "      <td>15</td>\n",
       "      <td>Clint Capela</td>\n",
       "      <td>C</td>\n",
       "      <td>6-10</td>\n",
       "      <td>240</td>\n",
       "      <td>1994-05-18</td>\n",
       "      <td>CH</td>\n",
       "      <td>7</td>\n",
       "      <td>NaN</td>\n",
       "    </tr>\n",
       "    <tr>\n",
       "      <th>4</th>\n",
       "      <td>20</td>\n",
       "      <td>John Collins</td>\n",
       "      <td>PF</td>\n",
       "      <td>6-9</td>\n",
       "      <td>235</td>\n",
       "      <td>1997-09-23</td>\n",
       "      <td>US</td>\n",
       "      <td>4</td>\n",
       "      <td>Wake Forest</td>\n",
       "    </tr>\n",
       "  </tbody>\n",
       "</table>\n",
       "</div>"
      ],
      "text/plain": [
       "   NUMBER              PLAYER POS HEIGHT  WEIGHT BIRTH_DATE NATIONALITY  \\\n",
       "0       5          Cat Barber  PG    6-2     190 1994-07-25          US   \n",
       "1      13   Bogdan Bogdanović  SG    6-6     220 1992-08-18          RS   \n",
       "2      45  Chaundee Brown Jr.  SG    6-5     215 1998-12-04          US   \n",
       "3      15        Clint Capela   C   6-10     240 1994-05-18          CH   \n",
       "4      20        John Collins  PF    6-9     235 1997-09-23          US   \n",
       "\n",
       "  EXPERIENCE                COLLEGE  \n",
       "0          R               NC State  \n",
       "1          4                    NaN  \n",
       "2          R  Wake Forest, Michigan  \n",
       "3          7                    NaN  \n",
       "4          4            Wake Forest  "
      ]
     },
     "execution_count": 12,
     "metadata": {},
     "output_type": "execute_result"
    }
   ],
   "source": [
    "team = TEAM_TO_TEAM_ABBR[\"ATLANTA HAWKS\"]\n",
    "year = 2022\n",
    "roster = brs.teams.get_roster(team, year)\n",
    "roster.dropna()\n",
    "roster.head()"
   ]
  },
  {
   "cell_type": "code",
   "execution_count": 17,
   "metadata": {},
   "outputs": [
    {
     "name": "stdout",
     "output_type": "stream",
     "text": [
      "You searched for \"Trae Young\"\n",
      "8 results found.\n",
      "       Split        Value    MP   PTS  TRB   AST\n",
      "2      Place         Home  34.8  30.2  3.8   9.5\n",
      "3      Place         Road  35.0  26.5  3.7   9.9\n",
      "5   All-Star          Pre  34.4  27.8  3.9   9.3\n",
      "6   All-Star         Post  36.0  29.6  3.4  10.6\n",
      "8     Result          Win  34.2  31.2  3.9   9.4\n",
      "..       ...          ...   ...   ...  ...   ...\n",
      "72  Opponent   Sacramento  24.7  17.0  3.0  10.0\n",
      "73  Opponent  San Antonio  32.3  24.5  5.5  11.0\n",
      "74  Opponent      Toronto  36.7  29.7  4.7  13.0\n",
      "75  Opponent         Utah  34.7  24.0  2.0   6.5\n",
      "76  Opponent   Washington  35.5  24.0  3.3   9.5\n",
      "\n",
      "[65 rows x 6 columns]\n"
     ]
    },
    {
     "name": "stderr",
     "output_type": "stream",
     "text": [
      "c:\\Users\\jonat\\OneDrive - University of Southern California\\Documents\\USC\\Quant\\Sports Betting\\Sports-Betting\\basketball_ref_scraper\\players.py:89: SettingWithCopyWarning: \n",
      "A value is trying to be set on a copy of a slice from a DataFrame\n",
      "\n",
      "See the caveats in the documentation: https://pandas.pydata.org/pandas-docs/stable/user_guide/indexing.html#returning-a-view-versus-a-copy\n",
      "  df['Unnamed: 0_level_0','Split'][i] = df['Unnamed: 0_level_0','Split'][i-1]\n"
     ]
    }
   ],
   "source": [
    "player = \"Trae Young\"\n",
    "pstats = brs.players.get_player_splits(player, 2022)\n",
    "print(pstats)"
   ]
  }
 ],
 "metadata": {
  "kernelspec": {
   "display_name": "Python 3",
   "language": "python",
   "name": "python3"
  },
  "language_info": {
   "codemirror_mode": {
    "name": "ipython",
    "version": 3
   },
   "file_extension": ".py",
   "mimetype": "text/x-python",
   "name": "python",
   "nbconvert_exporter": "python",
   "pygments_lexer": "ipython3",
   "version": "3.10.8"
  },
  "orig_nbformat": 4,
  "vscode": {
   "interpreter": {
    "hash": "a4e1e7637f9e7cc55040cae30ec8414c904d19364cfdd9e7e5ee360d499f1dd7"
   }
  }
 },
 "nbformat": 4,
 "nbformat_minor": 2
}
